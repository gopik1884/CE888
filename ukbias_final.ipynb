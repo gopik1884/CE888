{
 "cells": [
  {
   "cell_type": "code",
   "execution_count": 1,
   "metadata": {
    "id": "XCqAWnvWms1Z"
   },
   "outputs": [],
   "source": [
    "import pandas as pd\n",
    "import numpy as np\n",
    "import seaborn as sns\n",
    "import matplotlib.pyplot as plt\n",
    "%matplotlib inline"
   ]
  },
  {
   "cell_type": "code",
   "execution_count": 2,
   "metadata": {
    "id": "zjjielQ_nOV3"
   },
   "outputs": [
    {
     "data": {
      "text/html": [
       "<div>\n",
       "<style scoped>\n",
       "    .dataframe tbody tr th:only-of-type {\n",
       "        vertical-align: middle;\n",
       "    }\n",
       "\n",
       "    .dataframe tbody tr th {\n",
       "        vertical-align: top;\n",
       "    }\n",
       "\n",
       "    .dataframe thead th {\n",
       "        text-align: right;\n",
       "    }\n",
       "</style>\n",
       "<table border=\"1\" class=\"dataframe\">\n",
       "  <thead>\n",
       "    <tr style=\"text-align: right;\">\n",
       "      <th></th>\n",
       "      <th>Type</th>\n",
       "      <th>Date</th>\n",
       "      <th>Part of a policing operation</th>\n",
       "      <th>Policing operation</th>\n",
       "      <th>Latitude</th>\n",
       "      <th>Longitude</th>\n",
       "      <th>Gender</th>\n",
       "      <th>Age range</th>\n",
       "      <th>Self-defined ethnicity</th>\n",
       "      <th>Officer-defined ethnicity</th>\n",
       "      <th>Legislation</th>\n",
       "      <th>Object of search</th>\n",
       "      <th>Outcome</th>\n",
       "      <th>Outcome linked to object of search</th>\n",
       "      <th>Removal of more than just outer clothing</th>\n",
       "    </tr>\n",
       "  </thead>\n",
       "  <tbody>\n",
       "    <tr>\n",
       "      <th>0</th>\n",
       "      <td>Person search</td>\n",
       "      <td>2020-06-30T23:01:00+00:00</td>\n",
       "      <td>False</td>\n",
       "      <td>NaN</td>\n",
       "      <td>51.776969</td>\n",
       "      <td>1.119975</td>\n",
       "      <td>Male</td>\n",
       "      <td>18-24</td>\n",
       "      <td>White - English/Welsh/Scottish/Northern Irish/...</td>\n",
       "      <td>White</td>\n",
       "      <td>Police and Criminal Evidence Act 1984 (section 1)</td>\n",
       "      <td>Article for use in theft</td>\n",
       "      <td>A no further action disposal</td>\n",
       "      <td>False</td>\n",
       "      <td>False</td>\n",
       "    </tr>\n",
       "    <tr>\n",
       "      <th>1</th>\n",
       "      <td>Person search</td>\n",
       "      <td>2020-06-30T23:01:00+00:00</td>\n",
       "      <td>False</td>\n",
       "      <td>NaN</td>\n",
       "      <td>51.884603</td>\n",
       "      <td>0.921385</td>\n",
       "      <td>Male</td>\n",
       "      <td>over 34</td>\n",
       "      <td>White - English/Welsh/Scottish/Northern Irish/...</td>\n",
       "      <td>White</td>\n",
       "      <td>Misuse of Drugs Act 1971 (section 23)</td>\n",
       "      <td>Controlled drugs</td>\n",
       "      <td>Summons / charged by post</td>\n",
       "      <td>False</td>\n",
       "      <td>False</td>\n",
       "    </tr>\n",
       "    <tr>\n",
       "      <th>2</th>\n",
       "      <td>Person search</td>\n",
       "      <td>2020-07-01T00:01:00+00:00</td>\n",
       "      <td>False</td>\n",
       "      <td>NaN</td>\n",
       "      <td>51.567500</td>\n",
       "      <td>0.434043</td>\n",
       "      <td>Male</td>\n",
       "      <td>18-24</td>\n",
       "      <td>White - English/Welsh/Scottish/Northern Irish/...</td>\n",
       "      <td>White</td>\n",
       "      <td>Police and Criminal Evidence Act 1984 (section 1)</td>\n",
       "      <td>Stolen goods</td>\n",
       "      <td>A no further action disposal</td>\n",
       "      <td>False</td>\n",
       "      <td>False</td>\n",
       "    </tr>\n",
       "    <tr>\n",
       "      <th>3</th>\n",
       "      <td>Person and Vehicle search</td>\n",
       "      <td>2020-07-01T02:01:00+00:00</td>\n",
       "      <td>False</td>\n",
       "      <td>NaN</td>\n",
       "      <td>51.585496</td>\n",
       "      <td>0.500271</td>\n",
       "      <td>Female</td>\n",
       "      <td>over 34</td>\n",
       "      <td>White - English/Welsh/Scottish/Northern Irish/...</td>\n",
       "      <td>White</td>\n",
       "      <td>Misuse of Drugs Act 1971 (section 23)</td>\n",
       "      <td>Controlled drugs</td>\n",
       "      <td>A no further action disposal</td>\n",
       "      <td>False</td>\n",
       "      <td>False</td>\n",
       "    </tr>\n",
       "    <tr>\n",
       "      <th>4</th>\n",
       "      <td>Person and Vehicle search</td>\n",
       "      <td>2020-07-01T06:01:00+00:00</td>\n",
       "      <td>False</td>\n",
       "      <td>NaN</td>\n",
       "      <td>51.876726</td>\n",
       "      <td>1.006272</td>\n",
       "      <td>Male</td>\n",
       "      <td>18-24</td>\n",
       "      <td>White - English/Welsh/Scottish/Northern Irish/...</td>\n",
       "      <td>White</td>\n",
       "      <td>Misuse of Drugs Act 1971 (section 23)</td>\n",
       "      <td>Controlled drugs</td>\n",
       "      <td>NaN</td>\n",
       "      <td>False</td>\n",
       "      <td>False</td>\n",
       "    </tr>\n",
       "  </tbody>\n",
       "</table>\n",
       "</div>"
      ],
      "text/plain": [
       "                        Type                       Date  \\\n",
       "0              Person search  2020-06-30T23:01:00+00:00   \n",
       "1              Person search  2020-06-30T23:01:00+00:00   \n",
       "2              Person search  2020-07-01T00:01:00+00:00   \n",
       "3  Person and Vehicle search  2020-07-01T02:01:00+00:00   \n",
       "4  Person and Vehicle search  2020-07-01T06:01:00+00:00   \n",
       "\n",
       "   Part of a policing operation  Policing operation   Latitude  Longitude  \\\n",
       "0                         False                 NaN  51.776969   1.119975   \n",
       "1                         False                 NaN  51.884603   0.921385   \n",
       "2                         False                 NaN  51.567500   0.434043   \n",
       "3                         False                 NaN  51.585496   0.500271   \n",
       "4                         False                 NaN  51.876726   1.006272   \n",
       "\n",
       "   Gender Age range                             Self-defined ethnicity  \\\n",
       "0    Male     18-24  White - English/Welsh/Scottish/Northern Irish/...   \n",
       "1    Male   over 34  White - English/Welsh/Scottish/Northern Irish/...   \n",
       "2    Male     18-24  White - English/Welsh/Scottish/Northern Irish/...   \n",
       "3  Female   over 34  White - English/Welsh/Scottish/Northern Irish/...   \n",
       "4    Male     18-24  White - English/Welsh/Scottish/Northern Irish/...   \n",
       "\n",
       "  Officer-defined ethnicity  \\\n",
       "0                     White   \n",
       "1                     White   \n",
       "2                     White   \n",
       "3                     White   \n",
       "4                     White   \n",
       "\n",
       "                                         Legislation  \\\n",
       "0  Police and Criminal Evidence Act 1984 (section 1)   \n",
       "1              Misuse of Drugs Act 1971 (section 23)   \n",
       "2  Police and Criminal Evidence Act 1984 (section 1)   \n",
       "3              Misuse of Drugs Act 1971 (section 23)   \n",
       "4              Misuse of Drugs Act 1971 (section 23)   \n",
       "\n",
       "           Object of search                       Outcome  \\\n",
       "0  Article for use in theft  A no further action disposal   \n",
       "1          Controlled drugs     Summons / charged by post   \n",
       "2              Stolen goods  A no further action disposal   \n",
       "3          Controlled drugs  A no further action disposal   \n",
       "4          Controlled drugs                           NaN   \n",
       "\n",
       "  Outcome linked to object of search Removal of more than just outer clothing  \n",
       "0                              False                                    False  \n",
       "1                              False                                    False  \n",
       "2                              False                                    False  \n",
       "3                              False                                    False  \n",
       "4                              False                                    False  "
      ]
     },
     "execution_count": 2,
     "metadata": {},
     "output_type": "execute_result"
    }
   ],
   "source": [
    "df = pd.read_csv(\"https://raw.githubusercontent.com/dushyanthbommana/CE888/main/essex-stop-search.csv\")\n",
    "df.head()"
   ]
  },
  {
   "cell_type": "code",
   "execution_count": 3,
   "metadata": {},
   "outputs": [
    {
     "data": {
      "text/plain": [
       "(7790, 15)"
      ]
     },
     "execution_count": 3,
     "metadata": {},
     "output_type": "execute_result"
    }
   ],
   "source": [
    "df.shape"
   ]
  },
  {
   "cell_type": "code",
   "execution_count": 4,
   "metadata": {
    "colab": {
     "base_uri": "https://localhost:8080/",
     "height": 294
    },
    "id": "cfo8aaFvnisg",
    "outputId": "4121671a-1acf-4017-b785-ac2ca1b14b1e"
   },
   "outputs": [
    {
     "data": {
      "text/html": [
       "<div>\n",
       "<style scoped>\n",
       "    .dataframe tbody tr th:only-of-type {\n",
       "        vertical-align: middle;\n",
       "    }\n",
       "\n",
       "    .dataframe tbody tr th {\n",
       "        vertical-align: top;\n",
       "    }\n",
       "\n",
       "    .dataframe thead th {\n",
       "        text-align: right;\n",
       "    }\n",
       "</style>\n",
       "<table border=\"1\" class=\"dataframe\">\n",
       "  <thead>\n",
       "    <tr style=\"text-align: right;\">\n",
       "      <th></th>\n",
       "      <th>Policing operation</th>\n",
       "      <th>Latitude</th>\n",
       "      <th>Longitude</th>\n",
       "    </tr>\n",
       "  </thead>\n",
       "  <tbody>\n",
       "    <tr>\n",
       "      <th>count</th>\n",
       "      <td>0.0</td>\n",
       "      <td>7494.000000</td>\n",
       "      <td>7494.000000</td>\n",
       "    </tr>\n",
       "    <tr>\n",
       "      <th>mean</th>\n",
       "      <td>NaN</td>\n",
       "      <td>51.714273</td>\n",
       "      <td>0.509850</td>\n",
       "    </tr>\n",
       "    <tr>\n",
       "      <th>std</th>\n",
       "      <td>NaN</td>\n",
       "      <td>0.277793</td>\n",
       "      <td>0.629549</td>\n",
       "    </tr>\n",
       "    <tr>\n",
       "      <th>min</th>\n",
       "      <td>NaN</td>\n",
       "      <td>50.692644</td>\n",
       "      <td>-8.065707</td>\n",
       "    </tr>\n",
       "    <tr>\n",
       "      <th>25%</th>\n",
       "      <td>NaN</td>\n",
       "      <td>51.567426</td>\n",
       "      <td>0.353087</td>\n",
       "    </tr>\n",
       "    <tr>\n",
       "      <th>50%</th>\n",
       "      <td>NaN</td>\n",
       "      <td>51.671251</td>\n",
       "      <td>0.520333</td>\n",
       "    </tr>\n",
       "    <tr>\n",
       "      <th>75%</th>\n",
       "      <td>NaN</td>\n",
       "      <td>51.812031</td>\n",
       "      <td>0.728510</td>\n",
       "    </tr>\n",
       "    <tr>\n",
       "      <th>max</th>\n",
       "      <td>NaN</td>\n",
       "      <td>54.948226</td>\n",
       "      <td>1.318035</td>\n",
       "    </tr>\n",
       "  </tbody>\n",
       "</table>\n",
       "</div>"
      ],
      "text/plain": [
       "       Policing operation     Latitude    Longitude\n",
       "count                 0.0  7494.000000  7494.000000\n",
       "mean                  NaN    51.714273     0.509850\n",
       "std                   NaN     0.277793     0.629549\n",
       "min                   NaN    50.692644    -8.065707\n",
       "25%                   NaN    51.567426     0.353087\n",
       "50%                   NaN    51.671251     0.520333\n",
       "75%                   NaN    51.812031     0.728510\n",
       "max                   NaN    54.948226     1.318035"
      ]
     },
     "execution_count": 4,
     "metadata": {},
     "output_type": "execute_result"
    }
   ],
   "source": [
    "df.describe()"
   ]
  },
  {
   "cell_type": "code",
   "execution_count": 6,
   "metadata": {},
   "outputs": [],
   "source": [
    "df[\"Gender\"].fillna(\"Other\" ,inplace=True)\n"
   ]
  },
  {
   "cell_type": "code",
   "execution_count": 7,
   "metadata": {
    "id": "n3g7Fvhmnqye"
   },
   "outputs": [
    {
     "name": "stdout",
     "output_type": "stream",
     "text": [
      "<class 'pandas.core.frame.DataFrame'>\n",
      "RangeIndex: 7790 entries, 0 to 7789\n",
      "Data columns (total 15 columns):\n",
      "Type                                        7790 non-null object\n",
      "Date                                        7790 non-null object\n",
      "Part of a policing operation                7790 non-null bool\n",
      "Policing operation                          0 non-null float64\n",
      "Latitude                                    7494 non-null float64\n",
      "Longitude                                   7494 non-null float64\n",
      "Gender                                      7790 non-null object\n",
      "Age range                                   7790 non-null object\n",
      "Self-defined ethnicity                      7185 non-null object\n",
      "Officer-defined ethnicity                   7144 non-null object\n",
      "Legislation                                 7779 non-null object\n",
      "Object of search                            3402 non-null object\n",
      "Outcome                                     7745 non-null object\n",
      "Outcome linked to object of search          3402 non-null object\n",
      "Removal of more than just outer clothing    3121 non-null object\n",
      "dtypes: bool(1), float64(3), object(11)\n",
      "memory usage: 859.7+ KB\n"
     ]
    }
   ],
   "source": [
    "df.info()"
   ]
  },
  {
   "cell_type": "code",
   "execution_count": 8,
   "metadata": {},
   "outputs": [
    {
     "data": {
      "text/plain": [
       "<matplotlib.axes._subplots.AxesSubplot at 0x6f932e8>"
      ]
     },
     "execution_count": 8,
     "metadata": {},
     "output_type": "execute_result"
    },
    {
     "data": {
      "image/png": "[encoded data removed]",
      "text/plain": [
       "<Figure size 432x288 with 1 Axes>"
      ]
     },
     "metadata": {},
     "output_type": "display_data"
    }
   ],
   "source": [
    "df[\"Age range\"].value_counts().plot(kind=\"pie\")"
   ]
  },
  {
   "cell_type": "code",
   "execution_count": 9,
   "metadata": {},
   "outputs": [
    {
     "data": {
      "text/plain": [
       "<matplotlib.axes._subplots.AxesSubplot at 0x54fdf28>"
      ]
     },
     "execution_count": 9,
     "metadata": {},
     "output_type": "execute_result"
    },
    {
     "data": {
      "image/png": "[encoded data removed]",
      "text/plain": [
       "<Figure size 432x288 with 1 Axes>"
      ]
     },
     "metadata": {},
     "output_type": "display_data"
    }
   ],
   "source": [
    "df[\"Officer-defined ethnicity\"].value_counts().plot(kind=\"pie\")"
   ]
  },
  {
   "cell_type": "code",
   "execution_count": 38,
   "metadata": {
    "colab": {
     "base_uri": "https://localhost:8080/",
     "height": 171
    },
    "id": "9P1qe3fUZGEM",
    "outputId": "d9569484-7446-48ae-de24-4834e2925fc6"
   },
   "outputs": [
    {
     "data": {
      "text/html": [
       "<div>\n",
       "<style scoped>\n",
       "    .dataframe tbody tr th:only-of-type {\n",
       "        vertical-align: middle;\n",
       "    }\n",
       "\n",
       "    .dataframe tbody tr th {\n",
       "        vertical-align: top;\n",
       "    }\n",
       "\n",
       "    .dataframe thead th {\n",
       "        text-align: right;\n",
       "    }\n",
       "</style>\n",
       "<table border=\"1\" class=\"dataframe\">\n",
       "  <thead>\n",
       "    <tr style=\"text-align: right;\">\n",
       "      <th>Age range</th>\n",
       "      <th>18</th>\n",
       "      <th>18-24</th>\n",
       "      <th>25-34</th>\n",
       "      <th>Oct-17</th>\n",
       "      <th>over 34</th>\n",
       "      <th>under 10</th>\n",
       "    </tr>\n",
       "    <tr>\n",
       "      <th>Gender</th>\n",
       "      <th></th>\n",
       "      <th></th>\n",
       "      <th></th>\n",
       "      <th></th>\n",
       "      <th></th>\n",
       "      <th></th>\n",
       "    </tr>\n",
       "  </thead>\n",
       "  <tbody>\n",
       "    <tr>\n",
       "      <th>Female</th>\n",
       "      <td>53</td>\n",
       "      <td>326</td>\n",
       "      <td>161</td>\n",
       "      <td>194</td>\n",
       "      <td>159</td>\n",
       "      <td>0</td>\n",
       "    </tr>\n",
       "    <tr>\n",
       "      <th>Male</th>\n",
       "      <td>484</td>\n",
       "      <td>2228</td>\n",
       "      <td>1300</td>\n",
       "      <td>1301</td>\n",
       "      <td>962</td>\n",
       "      <td>1</td>\n",
       "    </tr>\n",
       "    <tr>\n",
       "      <th>Other</th>\n",
       "      <td>613</td>\n",
       "      <td>7</td>\n",
       "      <td>0</td>\n",
       "      <td>1</td>\n",
       "      <td>0</td>\n",
       "      <td>0</td>\n",
       "    </tr>\n",
       "  </tbody>\n",
       "</table>\n",
       "</div>"
      ],
      "text/plain": [
       "Age range   18  18-24  25-34  Oct-17  over 34  under 10\n",
       "Gender                                                 \n",
       "Female      53    326    161     194      159         0\n",
       "Male       484   2228   1300    1301      962         1\n",
       "Other      613      7      0       1        0         0"
      ]
     },
     "execution_count": 38,
     "metadata": {},
     "output_type": "execute_result"
    }
   ],
   "source": [
    "clarity_color_table1 = pd.crosstab(index=df[\"Gender\"], \n",
    "                          columns=df[\"Age range\"])\n",
    "\n",
    "clarity_color_table1"
   ]
  },
  {
   "cell_type": "code",
   "execution_count": 12,
   "metadata": {},
   "outputs": [
    {
     "data": {
      "text/html": [
       "<div>\n",
       "<style scoped>\n",
       "    .dataframe tbody tr th:only-of-type {\n",
       "        vertical-align: middle;\n",
       "    }\n",
       "\n",
       "    .dataframe tbody tr th {\n",
       "        vertical-align: top;\n",
       "    }\n",
       "\n",
       "    .dataframe thead th {\n",
       "        text-align: right;\n",
       "    }\n",
       "</style>\n",
       "<table border=\"1\" class=\"dataframe\">\n",
       "  <thead>\n",
       "    <tr style=\"text-align: right;\">\n",
       "      <th>Type</th>\n",
       "      <th>Person and Vehicle search</th>\n",
       "      <th>Person search</th>\n",
       "      <th>Vehicle search</th>\n",
       "    </tr>\n",
       "    <tr>\n",
       "      <th>Legislation</th>\n",
       "      <th></th>\n",
       "      <th></th>\n",
       "      <th></th>\n",
       "    </tr>\n",
       "  </thead>\n",
       "  <tbody>\n",
       "    <tr>\n",
       "      <th>Criminal Justice and Public Order Act 1994 (section 60)</th>\n",
       "      <td>0</td>\n",
       "      <td>17</td>\n",
       "      <td>0</td>\n",
       "    </tr>\n",
       "    <tr>\n",
       "      <th>Firearms Act 1968 (section 47)</th>\n",
       "      <td>15</td>\n",
       "      <td>22</td>\n",
       "      <td>2</td>\n",
       "    </tr>\n",
       "    <tr>\n",
       "      <th>Misuse of Drugs Act 1971 (section 23)</th>\n",
       "      <td>898</td>\n",
       "      <td>4086</td>\n",
       "      <td>429</td>\n",
       "    </tr>\n",
       "    <tr>\n",
       "      <th>Poaching Prevention Act 1862 (section 2)</th>\n",
       "      <td>1</td>\n",
       "      <td>6</td>\n",
       "      <td>0</td>\n",
       "    </tr>\n",
       "    <tr>\n",
       "      <th>Police and Criminal Evidence Act 1984 (section 1)</th>\n",
       "      <td>216</td>\n",
       "      <td>1975</td>\n",
       "      <td>110</td>\n",
       "    </tr>\n",
       "    <tr>\n",
       "      <th>Psychoactive Substances Act 2016 (s36(2))</th>\n",
       "      <td>0</td>\n",
       "      <td>1</td>\n",
       "      <td>0</td>\n",
       "    </tr>\n",
       "    <tr>\n",
       "      <th>Wildlife and Countryside Act 1981 (section 19)</th>\n",
       "      <td>0</td>\n",
       "      <td>1</td>\n",
       "      <td>0</td>\n",
       "    </tr>\n",
       "  </tbody>\n",
       "</table>\n",
       "</div>"
      ],
      "text/plain": [
       "Type                                                Person and Vehicle search  \\\n",
       "Legislation                                                                     \n",
       "Criminal Justice and Public Order Act 1994 (sec...                          0   \n",
       "Firearms Act 1968 (section 47)                                             15   \n",
       "Misuse of Drugs Act 1971 (section 23)                                     898   \n",
       "Poaching Prevention Act 1862 (section 2)                                    1   \n",
       "Police and Criminal Evidence Act 1984 (section 1)                         216   \n",
       "Psychoactive Substances Act 2016 (s36(2))                                   0   \n",
       "Wildlife and Countryside Act 1981 (section 19)                              0   \n",
       "\n",
       "Type                                                Person search  \\\n",
       "Legislation                                                         \n",
       "Criminal Justice and Public Order Act 1994 (sec...             17   \n",
       "Firearms Act 1968 (section 47)                                 22   \n",
       "Misuse of Drugs Act 1971 (section 23)                        4086   \n",
       "Poaching Prevention Act 1862 (section 2)                        6   \n",
       "Police and Criminal Evidence Act 1984 (section 1)            1975   \n",
       "Psychoactive Substances Act 2016 (s36(2))                       1   \n",
       "Wildlife and Countryside Act 1981 (section 19)                  1   \n",
       "\n",
       "Type                                                Vehicle search  \n",
       "Legislation                                                         \n",
       "Criminal Justice and Public Order Act 1994 (sec...               0  \n",
       "Firearms Act 1968 (section 47)                                   2  \n",
       "Misuse of Drugs Act 1971 (section 23)                          429  \n",
       "Poaching Prevention Act 1862 (section 2)                         0  \n",
       "Police and Criminal Evidence Act 1984 (section 1)              110  \n",
       "Psychoactive Substances Act 2016 (s36(2))                        0  \n",
       "Wildlife and Countryside Act 1981 (section 19)                   0  "
      ]
     },
     "execution_count": 12,
     "metadata": {},
     "output_type": "execute_result"
    }
   ],
   "source": [
    "clarity_color_table = pd.crosstab(index=df[\"Legislation\"], \n",
    "                          columns=df[\"Type\"])\n",
    "clarity_color_table"
   ]
  },
  {
   "cell_type": "code",
   "execution_count": 41,
   "metadata": {},
   "outputs": [
    {
     "data": {
      "text/html": [
       "<div>\n",
       "<style scoped>\n",
       "    .dataframe tbody tr th:only-of-type {\n",
       "        vertical-align: middle;\n",
       "    }\n",
       "\n",
       "    .dataframe tbody tr th {\n",
       "        vertical-align: top;\n",
       "    }\n",
       "\n",
       "    .dataframe thead th {\n",
       "        text-align: right;\n",
       "    }\n",
       "</style>\n",
       "<table border=\"1\" class=\"dataframe\">\n",
       "  <thead>\n",
       "    <tr style=\"text-align: right;\">\n",
       "      <th>Officer-defined ethnicity</th>\n",
       "      <th>Asian</th>\n",
       "      <th>Black</th>\n",
       "      <th>Mixed</th>\n",
       "      <th>NOt known</th>\n",
       "      <th>Other</th>\n",
       "      <th>White</th>\n",
       "    </tr>\n",
       "    <tr>\n",
       "      <th>Gender</th>\n",
       "      <th></th>\n",
       "      <th></th>\n",
       "      <th></th>\n",
       "      <th></th>\n",
       "      <th></th>\n",
       "      <th></th>\n",
       "    </tr>\n",
       "  </thead>\n",
       "  <tbody>\n",
       "    <tr>\n",
       "      <th>Female</th>\n",
       "      <td>17</td>\n",
       "      <td>49</td>\n",
       "      <td>11</td>\n",
       "      <td>4</td>\n",
       "      <td>20</td>\n",
       "      <td>792</td>\n",
       "    </tr>\n",
       "    <tr>\n",
       "      <th>Male</th>\n",
       "      <td>320</td>\n",
       "      <td>641</td>\n",
       "      <td>96</td>\n",
       "      <td>38</td>\n",
       "      <td>191</td>\n",
       "      <td>4990</td>\n",
       "    </tr>\n",
       "    <tr>\n",
       "      <th>Other</th>\n",
       "      <td>1</td>\n",
       "      <td>5</td>\n",
       "      <td>0</td>\n",
       "      <td>604</td>\n",
       "      <td>1</td>\n",
       "      <td>10</td>\n",
       "    </tr>\n",
       "  </tbody>\n",
       "</table>\n",
       "</div>"
      ],
      "text/plain": [
       "Officer-defined ethnicity  Asian  Black  Mixed  NOt known  Other  White\n",
       "Gender                                                                 \n",
       "Female                        17     49     11          4     20    792\n",
       "Male                         320    641     96         38    191   4990\n",
       "Other                          1      5      0        604      1     10"
      ]
     },
     "execution_count": 41,
     "metadata": {},
     "output_type": "execute_result"
    }
   ],
   "source": [
    "clarity_color_table1 = pd.crosstab(index=df[\"Gender\"], \n",
    "                          columns=df[\"Officer-defined ethnicity\"])\n",
    "\n",
    "clarity_color_table1"
   ]
  },
  {
   "cell_type": "code",
   "execution_count": 40,
   "metadata": {},
   "outputs": [
    {
     "data": {
      "image/png": "[encoded data removed]",
      "text/plain": [
       "<Figure size 432x288 with 1 Axes>"
      ]
     },
     "metadata": {
      "needs_background": "light"
     },
     "output_type": "display_data"
    }
   ],
   "source": [
    "sns.countplot(x=df[\"Gender\"], hue=df[\"Age range\"], data=df)\n",
    "plt.title('Grouped bar plot - Gender and Age range')\n",
    "plt.show()"
   ]
  },
  {
   "cell_type": "code",
   "execution_count": 42,
   "metadata": {},
   "outputs": [
    {
     "data": {
      "image/png": "[encoded data removed]",
      "text/plain": [
       "<Figure size 432x288 with 1 Axes>"
      ]
     },
     "metadata": {
      "needs_background": "light"
     },
     "output_type": "display_data"
    }
   ],
   "source": [
    "sns.countplot(x=df[\"Gender\"], hue=df[\"Officer-defined ethnicity\"], data=df)\n",
    "plt.title('Grouped bar plot - Gender and facial colour')\n",
    "plt.show()"
   ]
  },
  {
   "cell_type": "code",
   "execution_count": 17,
   "metadata": {},
   "outputs": [
    {
     "data": {
      "image/png": "[encoded data removed]",
      "text/plain": [
       "<Figure size 432x288 with 1 Axes>"
      ]
     },
     "metadata": {
      "needs_background": "light"
     },
     "output_type": "display_data"
    }
   ],
   "source": [
    "sns.countplot(x=df[\"Age range\"], hue=df[\"Officer-defined ethnicity\"], data=df)\n",
    "plt.title('Grouped bar plot - facial colour  Age range')\n",
    "plt.show()"
   ]
  },
  {
   "cell_type": "code",
   "execution_count": 22,
   "metadata": {},
   "outputs": [
    {
     "data": {
      "image/png": "[encoded data removed]",
      "text/plain": [
       "<Figure size 432x288 with 1 Axes>"
      ]
     },
     "metadata": {
      "needs_background": "light"
     },
     "output_type": "display_data"
    }
   ],
   "source": [
    "sns.countplot(x=df[\"Type\"], hue=df[\"Gender\"], data=df)\n",
    "plt.title('Grouped bar plot - Gender and type of search ')\n",
    "plt.show()"
   ]
  },
  {
   "cell_type": "code",
   "execution_count": 21,
   "metadata": {},
   "outputs": [
    {
     "data": {
      "image/png": "[encoded data removed]",
      "text/plain": [
       "<Figure size 432x288 with 1 Axes>"
      ]
     },
     "metadata": {
      "needs_background": "light"
     },
     "output_type": "display_data"
    }
   ],
   "source": [
    "sns.countplot(x=df[\"Type\"], hue=df[\"Officer-defined ethnicity\"], data=df)\n",
    "plt.title('Grouped bar plot - Search type and facial colour(race)')\n",
    "plt.show()"
   ]
  },
  {
   "cell_type": "code",
   "execution_count": 42,
   "metadata": {},
   "outputs": [
    {
     "data": {
      "image/png": "[encoded data removed]",
      "text/plain": [
       "<Figure size 432x288 with 1 Axes>"
      ]
     },
     "metadata": {
      "needs_background": "light"
     },
     "output_type": "display_data"
    }
   ],
   "source": [
    "sns.countplot(x=df[\"Gender\"], hue=df[\"Object of search\"], data=df)\n",
    "plt.title('Grouped bar plot - Gender and Age range')\n",
    "plt.show()"
   ]
  },
  {
   "cell_type": "code",
   "execution_count": 21,
   "metadata": {
    "colab": {
     "base_uri": "https://localhost:8080/",
     "height": 294
    },
    "id": "CiOQe2hxcRCP",
    "outputId": "2c449736-9073-4541-a80e-10757f81725c"
   },
   "outputs": [
    {
     "data": {
      "text/html": [
       "<div>\n",
       "<style scoped>\n",
       "    .dataframe tbody tr th:only-of-type {\n",
       "        vertical-align: middle;\n",
       "    }\n",
       "\n",
       "    .dataframe tbody tr th {\n",
       "        vertical-align: top;\n",
       "    }\n",
       "\n",
       "    .dataframe thead th {\n",
       "        text-align: right;\n",
       "    }\n",
       "</style>\n",
       "<table border=\"1\" class=\"dataframe\">\n",
       "  <thead>\n",
       "    <tr style=\"text-align: right;\">\n",
       "      <th>Gender</th>\n",
       "      <th>Female</th>\n",
       "      <th>Male</th>\n",
       "      <th>Other</th>\n",
       "    </tr>\n",
       "    <tr>\n",
       "      <th>Legislation</th>\n",
       "      <th></th>\n",
       "      <th></th>\n",
       "      <th></th>\n",
       "    </tr>\n",
       "  </thead>\n",
       "  <tbody>\n",
       "    <tr>\n",
       "      <th>Criminal Justice and Public Order Act 1994 (section 60)</th>\n",
       "      <td>2</td>\n",
       "      <td>15</td>\n",
       "      <td>0</td>\n",
       "    </tr>\n",
       "    <tr>\n",
       "      <th>Firearms Act 1968 (section 47)</th>\n",
       "      <td>4</td>\n",
       "      <td>33</td>\n",
       "      <td>0</td>\n",
       "    </tr>\n",
       "    <tr>\n",
       "      <th>Misuse of Drugs Act 1971 (section 23)</th>\n",
       "      <td>644</td>\n",
       "      <td>4281</td>\n",
       "      <td>10</td>\n",
       "    </tr>\n",
       "    <tr>\n",
       "      <th>Poaching Prevention Act 1862 (section 2)</th>\n",
       "      <td>0</td>\n",
       "      <td>7</td>\n",
       "      <td>0</td>\n",
       "    </tr>\n",
       "    <tr>\n",
       "      <th>Police and Criminal Evidence Act 1984 (section 1)</th>\n",
       "      <td>241</td>\n",
       "      <td>1931</td>\n",
       "      <td>2</td>\n",
       "    </tr>\n",
       "    <tr>\n",
       "      <th>Psychoactive Substances Act 2016 (s36(2))</th>\n",
       "      <td>0</td>\n",
       "      <td>1</td>\n",
       "      <td>0</td>\n",
       "    </tr>\n",
       "    <tr>\n",
       "      <th>Wildlife and Countryside Act 1981 (section 19)</th>\n",
       "      <td>0</td>\n",
       "      <td>1</td>\n",
       "      <td>0</td>\n",
       "    </tr>\n",
       "  </tbody>\n",
       "</table>\n",
       "</div>"
      ],
      "text/plain": [
       "Gender                                              Female  Male  Other\n",
       "Legislation                                                            \n",
       "Criminal Justice and Public Order Act 1994 (sec...       2    15      0\n",
       "Firearms Act 1968 (section 47)                           4    33      0\n",
       "Misuse of Drugs Act 1971 (section 23)                  644  4281     10\n",
       "Poaching Prevention Act 1862 (section 2)                 0     7      0\n",
       "Police and Criminal Evidence Act 1984 (section 1)      241  1931      2\n",
       "Psychoactive Substances Act 2016 (s36(2))                0     1      0\n",
       "Wildlife and Countryside Act 1981 (section 19)           0     1      0"
      ]
     },
     "execution_count": 21,
     "metadata": {},
     "output_type": "execute_result"
    }
   ],
   "source": [
    "clarity_color_table = pd.crosstab(index=df[\"Legislation\"], \n",
    "                          columns=df[\"Gender\"])\n",
    "clarity_color_table"
   ]
  },
  {
   "cell_type": "code",
   "execution_count": null,
   "metadata": {},
   "outputs": [],
   "source": []
  }
 ],
 "metadata": {
  "colab": {
   "name": "Uk-Police-Bias.ipynb",
   "provenance": []
  },
  "kernelspec": {
   "display_name": "Python 3",
   "language": "python",
   "name": "python3"
  },
  "language_info": {
   "codemirror_mode": {
    "name": "ipython",
    "version": 3
   },
   "file_extension": ".py",
   "mimetype": "text/x-python",
   "name": "python",
   "nbconvert_exporter": "python",
   "pygments_lexer": "ipython3",
   "version": "3.7.1"
  }
 },
 "nbformat": 4,
 "nbformat_minor": 1
}
